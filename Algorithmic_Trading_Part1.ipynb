{
 "cells": [
  {
   "cell_type": "markdown",
   "id": "930da67c",
   "metadata": {},
   "source": [
    "# Keystone Project - Algorithmic Trading Using a Contrarian Strategy (That didn't work well :( I should try a momentum strategy next!"
   ]
  },
  {
   "cell_type": "markdown",
   "id": "96a838af",
   "metadata": {},
   "source": [
    "__Assignment / Goal:__"
   ]
  },
  {
   "cell_type": "markdown",
   "id": "edc7e14f",
   "metadata": {},
   "source": [
    "Create a Trading Algorithm for a Contrarian Trading Strategy: "
   ]
  },
  {
   "cell_type": "markdown",
   "id": "6d0abfc3",
   "metadata": {},
   "source": [
    "1. At the end of each trading day,  __buy__ the __three worst performing stocks__ among the __30 DJIA__ stocks and hold them for the next trading day."
   ]
  },
  {
   "cell_type": "markdown",
   "id": "beb1db70",
   "metadata": {},
   "source": [
    "2. At the end of each trading day,  __short sell__ the __three best performing stocks__ among the __30 DJIA__ stocks and short them for the next trading day."
   ]
  },
  {
   "cell_type": "markdown",
   "id": "e7cf1105",
   "metadata": {},
   "source": [
    "3. We buy/sell __one share__ of the respective stocks."
   ]
  },
  {
   "cell_type": "markdown",
   "id": "99b5be73",
   "metadata": {},
   "source": [
    "4. Underlying idea: The __Market overreacted__ and most recent (extreme) price __trends will revert__ in the near future -> __Contrarian Trading__ (!= Momentum Trading)"
   ]
  },
  {
   "cell_type": "markdown",
   "id": "715f46dd",
   "metadata": {},
   "source": [
    "5. This code does the following:\n",
    "- __imports__ required data \n",
    "- __measures__ the most recent performance (price change in %)\n",
    "- __identifies__ the best/worst performing stocks\n",
    "- __trades__ the stocks with the IBKR API "
   ]
  },
  {
   "cell_type": "code",
   "execution_count": 155,
   "id": "2c96cb4b",
   "metadata": {},
   "outputs": [],
   "source": [
    "import pandas as pd\n",
    "import yfinance as yf\n",
    "from ib_insync import *\n",
    "util.startLoop()"
   ]
  },
  {
   "cell_type": "markdown",
   "id": "191c402b",
   "metadata": {},
   "source": [
    "## Get the Symbols"
   ]
  },
  {
   "cell_type": "code",
   "execution_count": 38,
   "id": "54f1554d",
   "metadata": {},
   "outputs": [
    {
     "data": {
      "text/html": [
       "<div>\n",
       "<style scoped>\n",
       "    .dataframe tbody tr th:only-of-type {\n",
       "        vertical-align: middle;\n",
       "    }\n",
       "\n",
       "    .dataframe tbody tr th {\n",
       "        vertical-align: top;\n",
       "    }\n",
       "\n",
       "    .dataframe thead tr th {\n",
       "        text-align: left;\n",
       "    }\n",
       "\n",
       "    .dataframe thead tr:last-of-type th {\n",
       "        text-align: right;\n",
       "    }\n",
       "</style>\n",
       "<table border=\"1\" class=\"dataframe\">\n",
       "  <thead>\n",
       "    <tr>\n",
       "      <th></th>\n",
       "      <th colspan=\"10\" halign=\"left\">Adj Close</th>\n",
       "      <th>...</th>\n",
       "      <th colspan=\"10\" halign=\"left\">Volume</th>\n",
       "    </tr>\n",
       "    <tr>\n",
       "      <th></th>\n",
       "      <th>AAPL</th>\n",
       "      <th>AMGN</th>\n",
       "      <th>AXP</th>\n",
       "      <th>BA</th>\n",
       "      <th>CAT</th>\n",
       "      <th>CRM</th>\n",
       "      <th>CSCO</th>\n",
       "      <th>CVX</th>\n",
       "      <th>DIS</th>\n",
       "      <th>DOW</th>\n",
       "      <th>...</th>\n",
       "      <th>MSFT</th>\n",
       "      <th>NKE</th>\n",
       "      <th>PG</th>\n",
       "      <th>TRV</th>\n",
       "      <th>UNH</th>\n",
       "      <th>V</th>\n",
       "      <th>VZ</th>\n",
       "      <th>WBA</th>\n",
       "      <th>WMT</th>\n",
       "      <th>^DJI</th>\n",
       "    </tr>\n",
       "    <tr>\n",
       "      <th>Date</th>\n",
       "      <th></th>\n",
       "      <th></th>\n",
       "      <th></th>\n",
       "      <th></th>\n",
       "      <th></th>\n",
       "      <th></th>\n",
       "      <th></th>\n",
       "      <th></th>\n",
       "      <th></th>\n",
       "      <th></th>\n",
       "      <th></th>\n",
       "      <th></th>\n",
       "      <th></th>\n",
       "      <th></th>\n",
       "      <th></th>\n",
       "      <th></th>\n",
       "      <th></th>\n",
       "      <th></th>\n",
       "      <th></th>\n",
       "      <th></th>\n",
       "      <th></th>\n",
       "    </tr>\n",
       "  </thead>\n",
       "  <tbody>\n",
       "    <tr>\n",
       "      <th>2020-08-31</th>\n",
       "      <td>127.289726</td>\n",
       "      <td>238.217224</td>\n",
       "      <td>98.721237</td>\n",
       "      <td>171.820007</td>\n",
       "      <td>135.369568</td>\n",
       "      <td>272.649994</td>\n",
       "      <td>39.405495</td>\n",
       "      <td>76.447708</td>\n",
       "      <td>131.869995</td>\n",
       "      <td>41.147762</td>\n",
       "      <td>...</td>\n",
       "      <td>28774200</td>\n",
       "      <td>3519800</td>\n",
       "      <td>5596800</td>\n",
       "      <td>2297900</td>\n",
       "      <td>4341600</td>\n",
       "      <td>9326900</td>\n",
       "      <td>14555500</td>\n",
       "      <td>7940100</td>\n",
       "      <td>15078800</td>\n",
       "      <td>517320000</td>\n",
       "    </tr>\n",
       "    <tr>\n",
       "      <th>2020-09-01</th>\n",
       "      <td>132.360016</td>\n",
       "      <td>235.903885</td>\n",
       "      <td>99.576393</td>\n",
       "      <td>172.100006</td>\n",
       "      <td>138.927170</td>\n",
       "      <td>281.250000</td>\n",
       "      <td>39.228161</td>\n",
       "      <td>75.673492</td>\n",
       "      <td>133.550003</td>\n",
       "      <td>43.108482</td>\n",
       "      <td>...</td>\n",
       "      <td>25725500</td>\n",
       "      <td>4912400</td>\n",
       "      <td>5671800</td>\n",
       "      <td>969900</td>\n",
       "      <td>2487100</td>\n",
       "      <td>5642900</td>\n",
       "      <td>13358400</td>\n",
       "      <td>10728300</td>\n",
       "      <td>35599400</td>\n",
       "      <td>423410000</td>\n",
       "    </tr>\n",
       "    <tr>\n",
       "      <th>2020-09-02</th>\n",
       "      <td>129.617706</td>\n",
       "      <td>242.731033</td>\n",
       "      <td>101.451889</td>\n",
       "      <td>174.779999</td>\n",
       "      <td>141.990143</td>\n",
       "      <td>276.690002</td>\n",
       "      <td>39.592159</td>\n",
       "      <td>75.773689</td>\n",
       "      <td>135.389999</td>\n",
       "      <td>44.886814</td>\n",
       "      <td>...</td>\n",
       "      <td>34080800</td>\n",
       "      <td>6775400</td>\n",
       "      <td>8384800</td>\n",
       "      <td>1391400</td>\n",
       "      <td>2846500</td>\n",
       "      <td>9863800</td>\n",
       "      <td>21711900</td>\n",
       "      <td>7672400</td>\n",
       "      <td>17222000</td>\n",
       "      <td>539510000</td>\n",
       "    </tr>\n",
       "    <tr>\n",
       "      <th>2020-09-03</th>\n",
       "      <td>119.240417</td>\n",
       "      <td>233.129745</td>\n",
       "      <td>101.510201</td>\n",
       "      <td>168.770004</td>\n",
       "      <td>139.602539</td>\n",
       "      <td>265.010010</td>\n",
       "      <td>38.220158</td>\n",
       "      <td>74.944817</td>\n",
       "      <td>133.240005</td>\n",
       "      <td>44.129879</td>\n",
       "      <td>...</td>\n",
       "      <td>58400300</td>\n",
       "      <td>7264400</td>\n",
       "      <td>7277900</td>\n",
       "      <td>1299400</td>\n",
       "      <td>3872500</td>\n",
       "      <td>11310200</td>\n",
       "      <td>23126800</td>\n",
       "      <td>8278000</td>\n",
       "      <td>16005000</td>\n",
       "      <td>650080000</td>\n",
       "    </tr>\n",
       "    <tr>\n",
       "      <th>2020-09-04</th>\n",
       "      <td>119.319313</td>\n",
       "      <td>233.590546</td>\n",
       "      <td>102.686020</td>\n",
       "      <td>171.050003</td>\n",
       "      <td>140.953293</td>\n",
       "      <td>254.699997</td>\n",
       "      <td>38.098816</td>\n",
       "      <td>74.626007</td>\n",
       "      <td>131.990005</td>\n",
       "      <td>44.321396</td>\n",
       "      <td>...</td>\n",
       "      <td>59664100</td>\n",
       "      <td>5157600</td>\n",
       "      <td>7437700</td>\n",
       "      <td>1460700</td>\n",
       "      <td>2901000</td>\n",
       "      <td>13243600</td>\n",
       "      <td>22250100</td>\n",
       "      <td>6994400</td>\n",
       "      <td>11327400</td>\n",
       "      <td>694640000</td>\n",
       "    </tr>\n",
       "    <tr>\n",
       "      <th>...</th>\n",
       "      <td>...</td>\n",
       "      <td>...</td>\n",
       "      <td>...</td>\n",
       "      <td>...</td>\n",
       "      <td>...</td>\n",
       "      <td>...</td>\n",
       "      <td>...</td>\n",
       "      <td>...</td>\n",
       "      <td>...</td>\n",
       "      <td>...</td>\n",
       "      <td>...</td>\n",
       "      <td>...</td>\n",
       "      <td>...</td>\n",
       "      <td>...</td>\n",
       "      <td>...</td>\n",
       "      <td>...</td>\n",
       "      <td>...</td>\n",
       "      <td>...</td>\n",
       "      <td>...</td>\n",
       "      <td>...</td>\n",
       "      <td>...</td>\n",
       "    </tr>\n",
       "    <tr>\n",
       "      <th>2022-11-09</th>\n",
       "      <td>134.869995</td>\n",
       "      <td>289.649994</td>\n",
       "      <td>145.860001</td>\n",
       "      <td>168.740005</td>\n",
       "      <td>225.539993</td>\n",
       "      <td>142.059998</td>\n",
       "      <td>43.910000</td>\n",
       "      <td>177.929993</td>\n",
       "      <td>86.750000</td>\n",
       "      <td>47.680000</td>\n",
       "      <td>...</td>\n",
       "      <td>27852900</td>\n",
       "      <td>6550900</td>\n",
       "      <td>5690700</td>\n",
       "      <td>999200</td>\n",
       "      <td>2672600</td>\n",
       "      <td>7320200</td>\n",
       "      <td>17574600</td>\n",
       "      <td>6830500</td>\n",
       "      <td>5310700</td>\n",
       "      <td>355200000</td>\n",
       "    </tr>\n",
       "    <tr>\n",
       "      <th>2022-11-10</th>\n",
       "      <td>146.869995</td>\n",
       "      <td>291.010010</td>\n",
       "      <td>154.750000</td>\n",
       "      <td>177.580002</td>\n",
       "      <td>232.449997</td>\n",
       "      <td>156.300003</td>\n",
       "      <td>45.660000</td>\n",
       "      <td>181.300003</td>\n",
       "      <td>90.459999</td>\n",
       "      <td>49.959999</td>\n",
       "      <td>...</td>\n",
       "      <td>46268000</td>\n",
       "      <td>9361000</td>\n",
       "      <td>8068700</td>\n",
       "      <td>1618000</td>\n",
       "      <td>3426400</td>\n",
       "      <td>8048900</td>\n",
       "      <td>23049000</td>\n",
       "      <td>8825000</td>\n",
       "      <td>6770200</td>\n",
       "      <td>480130000</td>\n",
       "    </tr>\n",
       "    <tr>\n",
       "      <th>2022-11-11</th>\n",
       "      <td>149.699997</td>\n",
       "      <td>285.019989</td>\n",
       "      <td>154.889999</td>\n",
       "      <td>177.490005</td>\n",
       "      <td>236.490005</td>\n",
       "      <td>157.729996</td>\n",
       "      <td>44.790001</td>\n",
       "      <td>186.460007</td>\n",
       "      <td>95.010002</td>\n",
       "      <td>53.139999</td>\n",
       "      <td>...</td>\n",
       "      <td>34600900</td>\n",
       "      <td>12595600</td>\n",
       "      <td>7174400</td>\n",
       "      <td>1403300</td>\n",
       "      <td>7032900</td>\n",
       "      <td>9600700</td>\n",
       "      <td>22978900</td>\n",
       "      <td>13098600</td>\n",
       "      <td>6419700</td>\n",
       "      <td>427790000</td>\n",
       "    </tr>\n",
       "    <tr>\n",
       "      <th>2022-11-14</th>\n",
       "      <td>148.279999</td>\n",
       "      <td>285.299988</td>\n",
       "      <td>154.130005</td>\n",
       "      <td>173.550003</td>\n",
       "      <td>236.500000</td>\n",
       "      <td>158.660004</td>\n",
       "      <td>44.740002</td>\n",
       "      <td>186.550003</td>\n",
       "      <td>94.279999</td>\n",
       "      <td>51.950001</td>\n",
       "      <td>...</td>\n",
       "      <td>31123300</td>\n",
       "      <td>7134900</td>\n",
       "      <td>8516200</td>\n",
       "      <td>1427300</td>\n",
       "      <td>5238400</td>\n",
       "      <td>5796100</td>\n",
       "      <td>23028500</td>\n",
       "      <td>8301900</td>\n",
       "      <td>12508600</td>\n",
       "      <td>354340000</td>\n",
       "    </tr>\n",
       "    <tr>\n",
       "      <th>2022-11-15</th>\n",
       "      <td>150.039993</td>\n",
       "      <td>283.600006</td>\n",
       "      <td>153.889999</td>\n",
       "      <td>175.350006</td>\n",
       "      <td>234.589996</td>\n",
       "      <td>162.070007</td>\n",
       "      <td>44.900002</td>\n",
       "      <td>188.050003</td>\n",
       "      <td>95.510002</td>\n",
       "      <td>51.599998</td>\n",
       "      <td>...</td>\n",
       "      <td>31367300</td>\n",
       "      <td>7241000</td>\n",
       "      <td>7731700</td>\n",
       "      <td>1445900</td>\n",
       "      <td>5102800</td>\n",
       "      <td>7315700</td>\n",
       "      <td>25058900</td>\n",
       "      <td>6755300</td>\n",
       "      <td>25504700</td>\n",
       "      <td>390610000</td>\n",
       "    </tr>\n",
       "  </tbody>\n",
       "</table>\n",
       "<p>558 rows × 186 columns</p>\n",
       "</div>"
      ],
      "text/plain": [
       "             Adj Close                                                  \\\n",
       "                  AAPL        AMGN         AXP          BA         CAT   \n",
       "Date                                                                     \n",
       "2020-08-31  127.289726  238.217224   98.721237  171.820007  135.369568   \n",
       "2020-09-01  132.360016  235.903885   99.576393  172.100006  138.927170   \n",
       "2020-09-02  129.617706  242.731033  101.451889  174.779999  141.990143   \n",
       "2020-09-03  119.240417  233.129745  101.510201  168.770004  139.602539   \n",
       "2020-09-04  119.319313  233.590546  102.686020  171.050003  140.953293   \n",
       "...                ...         ...         ...         ...         ...   \n",
       "2022-11-09  134.869995  289.649994  145.860001  168.740005  225.539993   \n",
       "2022-11-10  146.869995  291.010010  154.750000  177.580002  232.449997   \n",
       "2022-11-11  149.699997  285.019989  154.889999  177.490005  236.490005   \n",
       "2022-11-14  148.279999  285.299988  154.130005  173.550003  236.500000   \n",
       "2022-11-15  150.039993  283.600006  153.889999  175.350006  234.589996   \n",
       "\n",
       "                                                                      ...  \\\n",
       "                   CRM       CSCO         CVX         DIS        DOW  ...   \n",
       "Date                                                                  ...   \n",
       "2020-08-31  272.649994  39.405495   76.447708  131.869995  41.147762  ...   \n",
       "2020-09-01  281.250000  39.228161   75.673492  133.550003  43.108482  ...   \n",
       "2020-09-02  276.690002  39.592159   75.773689  135.389999  44.886814  ...   \n",
       "2020-09-03  265.010010  38.220158   74.944817  133.240005  44.129879  ...   \n",
       "2020-09-04  254.699997  38.098816   74.626007  131.990005  44.321396  ...   \n",
       "...                ...        ...         ...         ...        ...  ...   \n",
       "2022-11-09  142.059998  43.910000  177.929993   86.750000  47.680000  ...   \n",
       "2022-11-10  156.300003  45.660000  181.300003   90.459999  49.959999  ...   \n",
       "2022-11-11  157.729996  44.790001  186.460007   95.010002  53.139999  ...   \n",
       "2022-11-14  158.660004  44.740002  186.550003   94.279999  51.950001  ...   \n",
       "2022-11-15  162.070007  44.900002  188.050003   95.510002  51.599998  ...   \n",
       "\n",
       "              Volume                                                           \\\n",
       "                MSFT       NKE       PG      TRV      UNH         V        VZ   \n",
       "Date                                                                            \n",
       "2020-08-31  28774200   3519800  5596800  2297900  4341600   9326900  14555500   \n",
       "2020-09-01  25725500   4912400  5671800   969900  2487100   5642900  13358400   \n",
       "2020-09-02  34080800   6775400  8384800  1391400  2846500   9863800  21711900   \n",
       "2020-09-03  58400300   7264400  7277900  1299400  3872500  11310200  23126800   \n",
       "2020-09-04  59664100   5157600  7437700  1460700  2901000  13243600  22250100   \n",
       "...              ...       ...      ...      ...      ...       ...       ...   \n",
       "2022-11-09  27852900   6550900  5690700   999200  2672600   7320200  17574600   \n",
       "2022-11-10  46268000   9361000  8068700  1618000  3426400   8048900  23049000   \n",
       "2022-11-11  34600900  12595600  7174400  1403300  7032900   9600700  22978900   \n",
       "2022-11-14  31123300   7134900  8516200  1427300  5238400   5796100  23028500   \n",
       "2022-11-15  31367300   7241000  7731700  1445900  5102800   7315700  25058900   \n",
       "\n",
       "                                           \n",
       "                 WBA       WMT       ^DJI  \n",
       "Date                                       \n",
       "2020-08-31   7940100  15078800  517320000  \n",
       "2020-09-01  10728300  35599400  423410000  \n",
       "2020-09-02   7672400  17222000  539510000  \n",
       "2020-09-03   8278000  16005000  650080000  \n",
       "2020-09-04   6994400  11327400  694640000  \n",
       "...              ...       ...        ...  \n",
       "2022-11-09   6830500   5310700  355200000  \n",
       "2022-11-10   8825000   6770200  480130000  \n",
       "2022-11-11  13098600   6419700  427790000  \n",
       "2022-11-14   8301900  12508600  354340000  \n",
       "2022-11-15   6755300  25504700  390610000  \n",
       "\n",
       "[558 rows x 186 columns]"
      ]
     },
     "execution_count": 38,
     "metadata": {},
     "output_type": "execute_result"
    }
   ],
   "source": [
    "df = pd.read_csv(\"DJI_Const.csv\", header = [0, 1], index_col = 0, parse_dates = [0])\n",
    "df"
   ]
  },
  {
   "cell_type": "code",
   "execution_count": null,
   "id": "56b2424c-14fb-4bae-ac21-7789100f29dd",
   "metadata": {},
   "outputs": [],
   "source": []
  },
  {
   "cell_type": "code",
   "execution_count": 41,
   "id": "d8adae15",
   "metadata": {},
   "outputs": [
    {
     "data": {
      "text/plain": [
       "['AAPL',\n",
       " 'AMGN',\n",
       " 'AXP',\n",
       " 'BA',\n",
       " 'CAT',\n",
       " 'CRM',\n",
       " 'CSCO',\n",
       " 'CVX',\n",
       " 'DIS',\n",
       " 'DOW',\n",
       " 'GS',\n",
       " 'HD',\n",
       " 'HON',\n",
       " 'IBM',\n",
       " 'INTC',\n",
       " 'JNJ',\n",
       " 'JPM',\n",
       " 'KO',\n",
       " 'MCD',\n",
       " 'MMM',\n",
       " 'MRK',\n",
       " 'MSFT',\n",
       " 'NKE',\n",
       " 'PG',\n",
       " 'TRV',\n",
       " 'UNH',\n",
       " 'V',\n",
       " 'VZ',\n",
       " 'WBA',\n",
       " 'WMT',\n",
       " '^DJI']"
      ]
     },
     "execution_count": 41,
     "metadata": {},
     "output_type": "execute_result"
    }
   ],
   "source": [
    "symbols = df.Close.columns.to_list()\n",
    "symbols"
   ]
  },
  {
   "cell_type": "code",
   "execution_count": 43,
   "id": "8be2953b",
   "metadata": {},
   "outputs": [],
   "source": [
    "symbols.remove(\"^DJI\")"
   ]
  },
  {
   "cell_type": "code",
   "execution_count": 45,
   "id": "afa37d31",
   "metadata": {},
   "outputs": [
    {
     "data": {
      "text/plain": [
       "30"
      ]
     },
     "execution_count": 45,
     "metadata": {},
     "output_type": "execute_result"
    }
   ],
   "source": [
    "len(symbols)"
   ]
  },
  {
   "cell_type": "markdown",
   "id": "53740ad7",
   "metadata": {},
   "source": [
    "## Get most recent Prices and Performance"
   ]
  },
  {
   "cell_type": "code",
   "execution_count": 56,
   "id": "c593d0f6",
   "metadata": {},
   "outputs": [
    {
     "data": {
      "text/plain": [
       "lazy-loading dict with keys = ['currency', 'dayHigh', 'dayLow', 'exchange', 'fiftyDayAverage', 'lastPrice', 'lastVolume', 'marketCap', 'open', 'previousClose', 'quoteType', 'regularMarketPreviousClose', 'shares', 'tenDayAverageVolume', 'threeMonthAverageVolume', 'timezone', 'twoHundredDayAverage', 'yearChange', 'yearHigh', 'yearLow']"
      ]
     },
     "execution_count": 56,
     "metadata": {},
     "output_type": "execute_result"
    }
   ],
   "source": [
    "yf.Ticker(ticker = \"AAPL\").get_fast_info() "
   ]
  },
  {
   "cell_type": "code",
   "execution_count": 57,
   "id": "39f49b1a",
   "metadata": {},
   "outputs": [
    {
     "data": {
      "text/plain": [
       "226.64999389648438"
      ]
     },
     "execution_count": 57,
     "metadata": {},
     "output_type": "execute_result"
    }
   ],
   "source": [
    "cprice =  yf.Ticker(\"AAPL\").get_fast_info()[\"last_price\"]\n",
    "cprice"
   ]
  },
  {
   "cell_type": "code",
   "execution_count": 58,
   "id": "af658c1a",
   "metadata": {},
   "outputs": [
    {
     "data": {
      "text/plain": [
       "233.0"
      ]
     },
     "execution_count": 58,
     "metadata": {},
     "output_type": "execute_result"
    }
   ],
   "source": [
    "last_close = yf.Ticker(\"AAPL\").get_fast_info()[\"regularMarketPreviousClose\"] \n",
    "last_close"
   ]
  },
  {
   "cell_type": "code",
   "execution_count": 59,
   "id": "bd54f526",
   "metadata": {},
   "outputs": [
    {
     "data": {
      "text/plain": [
       "-0.02725324507946625"
      ]
     },
     "execution_count": 59,
     "metadata": {},
     "output_type": "execute_result"
    }
   ],
   "source": [
    "perf = cprice / last_close - 1\n",
    "perf"
   ]
  },
  {
   "cell_type": "code",
   "execution_count": 60,
   "id": "220b861b",
   "metadata": {},
   "outputs": [
    {
     "data": {
      "text/plain": [
       "Series([], dtype: float64)"
      ]
     },
     "execution_count": 60,
     "metadata": {},
     "output_type": "execute_result"
    }
   ],
   "source": [
    "perf = pd.Series(dtype = float)\n",
    "perf"
   ]
  },
  {
   "cell_type": "code",
   "execution_count": 61,
   "id": "ed5a0b02",
   "metadata": {},
   "outputs": [
    {
     "data": {
      "text/plain": [
       "['AAPL',\n",
       " 'AMGN',\n",
       " 'AXP',\n",
       " 'BA',\n",
       " 'CAT',\n",
       " 'CRM',\n",
       " 'CSCO',\n",
       " 'CVX',\n",
       " 'DIS',\n",
       " 'DOW',\n",
       " 'GS',\n",
       " 'HD',\n",
       " 'HON',\n",
       " 'IBM',\n",
       " 'INTC',\n",
       " 'JNJ',\n",
       " 'JPM',\n",
       " 'KO',\n",
       " 'MCD',\n",
       " 'MMM',\n",
       " 'MRK',\n",
       " 'MSFT',\n",
       " 'NKE',\n",
       " 'PG',\n",
       " 'TRV',\n",
       " 'UNH',\n",
       " 'V',\n",
       " 'VZ',\n",
       " 'WBA',\n",
       " 'WMT']"
      ]
     },
     "execution_count": 61,
     "metadata": {},
     "output_type": "execute_result"
    }
   ],
   "source": [
    "symbols"
   ]
  },
  {
   "cell_type": "code",
   "execution_count": 62,
   "id": "d39c7451",
   "metadata": {},
   "outputs": [
    {
     "name": "stdout",
     "output_type": "stream",
     "text": [
      "Download complete.\n"
     ]
    }
   ],
   "source": [
    "count = 1\n",
    "for symbol in symbols:\n",
    "    try:\n",
    "        fast_info = yf.Ticker(ticker = symbol).get_fast_info() \n",
    "        prc_chg = fast_info[\"last_price\"] / fast_info[\"regularMarketPreviousClose\"] - 1 \n",
    "        perf.loc[symbol] = prc_chg\n",
    "        print(count, end = '\\r')\n",
    "        count += 1\n",
    "    except Exception as e:\n",
    "        print(\"{} not found\".format(symbol))\n",
    "print(\"Download complete.\")"
   ]
  },
  {
   "cell_type": "code",
   "execution_count": 64,
   "id": "7085745b",
   "metadata": {},
   "outputs": [
    {
     "data": {
      "text/plain": [
       "AAPL   -0.027253\n",
       "AMGN   -0.001893\n",
       "AXP    -0.005052\n",
       "BA     -0.014273\n",
       "CAT    -0.002339\n",
       "CRM    -0.001534\n",
       "CSCO   -0.008268\n",
       "CVX     0.002446\n",
       "DIS    -0.009605\n",
       "DOW    -0.005125\n",
       "GS     -0.006544\n",
       "HD     -0.006762\n",
       "HON    -0.002951\n",
       "IBM    -0.012529\n",
       "INTC   -0.007886\n",
       "JNJ    -0.001975\n",
       "JPM    -0.015698\n",
       "KO      0.006262\n",
       "MCD    -0.002430\n",
       "MMM    -0.007974\n",
       "MRK    -0.000704\n",
       "MSFT   -0.016663\n",
       "NKE    -0.002602\n",
       "PG      0.001415\n",
       "TRV    -0.001324\n",
       "UNH    -0.001026\n",
       "V       0.001891\n",
       "VZ      0.001002\n",
       "WBA    -0.011719\n",
       "WMT     0.001434\n",
       "dtype: float64"
      ]
     },
     "execution_count": 64,
     "metadata": {},
     "output_type": "execute_result"
    }
   ],
   "source": [
    "perf"
   ]
  },
  {
   "cell_type": "code",
   "execution_count": 163,
   "id": "dee9a334",
   "metadata": {},
   "outputs": [
    {
     "data": {
      "text/plain": [
       "symbol\n",
       "KO     -1.000000\n",
       "V      -1.000000\n",
       "CVX    -1.000000\n",
       "BA     -0.014273\n",
       "IBM    -0.012529\n",
       "WBA    -0.011719\n",
       "DIS    -0.009605\n",
       "CSCO   -0.008268\n",
       "MMM    -0.007974\n",
       "INTC   -0.007886\n",
       "HD     -0.006762\n",
       "GS     -0.006544\n",
       "DOW    -0.005125\n",
       "AXP    -0.005052\n",
       "HON    -0.002951\n",
       "NKE    -0.002602\n",
       "MCD    -0.002430\n",
       "CAT    -0.002339\n",
       "JNJ    -0.001975\n",
       "AMGN   -0.001893\n",
       "CRM    -0.001534\n",
       "TRV    -0.001324\n",
       "UNH    -0.001026\n",
       "MRK    -0.000704\n",
       "VZ      0.001002\n",
       "PG      0.001415\n",
       "WMT     0.001434\n",
       "MSFT    1.000000\n",
       "JPM     1.000000\n",
       "AAPL    1.000000\n",
       "dtype: float64"
      ]
     },
     "execution_count": 163,
     "metadata": {},
     "output_type": "execute_result"
    }
   ],
   "source": [
    "perf.sort_values(inplace = True) #sorts according to percentage change to find the worst performing and best performing ones\n",
    "perf"
   ]
  },
  {
   "cell_type": "code",
   "execution_count": 68,
   "id": "ba2ce5f5",
   "metadata": {},
   "outputs": [
    {
     "data": {
      "text/plain": [
       "symbol\n",
       "AAPL   -0.027253\n",
       "MSFT   -0.016663\n",
       "JPM    -0.015698\n",
       "BA     -0.014273\n",
       "IBM    -0.012529\n",
       "WBA    -0.011719\n",
       "DIS    -0.009605\n",
       "CSCO   -0.008268\n",
       "MMM    -0.007974\n",
       "INTC   -0.007886\n",
       "HD     -0.006762\n",
       "GS     -0.006544\n",
       "DOW    -0.005125\n",
       "AXP    -0.005052\n",
       "HON    -0.002951\n",
       "NKE    -0.002602\n",
       "MCD    -0.002430\n",
       "CAT    -0.002339\n",
       "JNJ    -0.001975\n",
       "AMGN   -0.001893\n",
       "CRM    -0.001534\n",
       "TRV    -0.001324\n",
       "UNH    -0.001026\n",
       "MRK    -0.000704\n",
       "VZ      0.001002\n",
       "PG      0.001415\n",
       "WMT     0.001434\n",
       "V       0.001891\n",
       "CVX     0.002446\n",
       "KO      0.006262\n",
       "dtype: float64"
      ]
     },
     "execution_count": 68,
     "metadata": {},
     "output_type": "execute_result"
    }
   ],
   "source": [
    "perf.index.name = \"symbol\"\n",
    "perf"
   ]
  },
  {
   "cell_type": "code",
   "execution_count": null,
   "id": "465ba7ed",
   "metadata": {},
   "outputs": [],
   "source": []
  },
  {
   "cell_type": "markdown",
   "id": "257eb5d7",
   "metadata": {},
   "source": [
    "## Determine Target Positions"
   ]
  },
  {
   "cell_type": "code",
   "execution_count": 76,
   "id": "7888806a",
   "metadata": {},
   "outputs": [],
   "source": [
    "buy_stocks = 3 # buy the 3 worst performing stocks"
   ]
  },
  {
   "cell_type": "code",
   "execution_count": 77,
   "id": "f8e5d8ab",
   "metadata": {},
   "outputs": [],
   "source": [
    "sell_stocks = 3 # short sell the 3 best performing stocks"
   ]
  },
  {
   "cell_type": "code",
   "execution_count": 78,
   "id": "db8bb646",
   "metadata": {},
   "outputs": [],
   "source": [
    "shares = 1 # one share per stock"
   ]
  },
  {
   "cell_type": "code",
   "execution_count": 79,
   "id": "cdc29856",
   "metadata": {},
   "outputs": [
    {
     "data": {
      "text/plain": [
       "symbol\n",
       "AAPL    1.000000\n",
       "MSFT    1.000000\n",
       "JPM     1.000000\n",
       "BA     -0.014273\n",
       "IBM    -0.012529\n",
       "WBA    -0.011719\n",
       "DIS    -0.009605\n",
       "CSCO   -0.008268\n",
       "MMM    -0.007974\n",
       "INTC   -0.007886\n",
       "HD     -0.006762\n",
       "GS     -0.006544\n",
       "DOW    -0.005125\n",
       "AXP    -0.005052\n",
       "HON    -0.002951\n",
       "NKE    -0.002602\n",
       "MCD    -0.002430\n",
       "CAT    -0.002339\n",
       "JNJ    -0.001975\n",
       "AMGN   -0.001893\n",
       "CRM    -0.001534\n",
       "TRV    -0.001324\n",
       "UNH    -0.001026\n",
       "MRK    -0.000704\n",
       "VZ      0.001002\n",
       "PG      0.001415\n",
       "WMT     0.001434\n",
       "V      -1.000000\n",
       "CVX    -1.000000\n",
       "KO     -1.000000\n",
       "dtype: float64"
      ]
     },
     "execution_count": 79,
     "metadata": {},
     "output_type": "execute_result"
    }
   ],
   "source": [
    "perf.iloc[:buy_stocks] = shares \n",
    "perf.iloc[-sell_stocks:] = -shares\n",
    "perf"
   ]
  },
  {
   "cell_type": "code",
   "execution_count": 80,
   "id": "a80bf6dc",
   "metadata": {},
   "outputs": [
    {
     "data": {
      "text/html": [
       "<div>\n",
       "<style scoped>\n",
       "    .dataframe tbody tr th:only-of-type {\n",
       "        vertical-align: middle;\n",
       "    }\n",
       "\n",
       "    .dataframe tbody tr th {\n",
       "        vertical-align: top;\n",
       "    }\n",
       "\n",
       "    .dataframe thead th {\n",
       "        text-align: right;\n",
       "    }\n",
       "</style>\n",
       "<table border=\"1\" class=\"dataframe\">\n",
       "  <thead>\n",
       "    <tr style=\"text-align: right;\">\n",
       "      <th></th>\n",
       "      <th>symbol</th>\n",
       "      <th>position</th>\n",
       "    </tr>\n",
       "  </thead>\n",
       "  <tbody>\n",
       "    <tr>\n",
       "      <th>0</th>\n",
       "      <td>AAPL</td>\n",
       "      <td>1.0</td>\n",
       "    </tr>\n",
       "    <tr>\n",
       "      <th>1</th>\n",
       "      <td>MSFT</td>\n",
       "      <td>1.0</td>\n",
       "    </tr>\n",
       "    <tr>\n",
       "      <th>2</th>\n",
       "      <td>JPM</td>\n",
       "      <td>1.0</td>\n",
       "    </tr>\n",
       "    <tr>\n",
       "      <th>3</th>\n",
       "      <td>V</td>\n",
       "      <td>-1.0</td>\n",
       "    </tr>\n",
       "    <tr>\n",
       "      <th>4</th>\n",
       "      <td>CVX</td>\n",
       "      <td>-1.0</td>\n",
       "    </tr>\n",
       "    <tr>\n",
       "      <th>5</th>\n",
       "      <td>KO</td>\n",
       "      <td>-1.0</td>\n",
       "    </tr>\n",
       "  </tbody>\n",
       "</table>\n",
       "</div>"
      ],
      "text/plain": [
       "  symbol  position\n",
       "0   AAPL       1.0\n",
       "1   MSFT       1.0\n",
       "2    JPM       1.0\n",
       "3      V      -1.0\n",
       "4    CVX      -1.0\n",
       "5     KO      -1.0"
      ]
     },
     "execution_count": 80,
     "metadata": {},
     "output_type": "execute_result"
    }
   ],
   "source": [
    "target = pd.concat([perf.iloc[:buy_stocks], perf.iloc[-sell_stocks:]]).to_frame().reset_index() #what we need\n",
    "target.columns = [\"symbol\", \"position\"]\n",
    "target"
   ]
  },
  {
   "cell_type": "code",
   "execution_count": null,
   "id": "83b5b66b",
   "metadata": {},
   "outputs": [],
   "source": []
  },
  {
   "cell_type": "markdown",
   "id": "69e02a54",
   "metadata": {},
   "source": [
    "## Identify Current Positions"
   ]
  },
  {
   "cell_type": "code",
   "execution_count": 106,
   "id": "71b2e2d4",
   "metadata": {},
   "outputs": [],
   "source": [
    "ib = IB()"
   ]
  },
  {
   "cell_type": "code",
   "execution_count": 108,
   "id": "353a3221",
   "metadata": {},
   "outputs": [
    {
     "data": {
      "text/plain": [
       "<IB connected to 127.0.0.1:7497 clientId=1>"
      ]
     },
     "execution_count": 108,
     "metadata": {},
     "output_type": "execute_result"
    }
   ],
   "source": [
    "ib.connect() #connects to interactive brokers api"
   ]
  },
  {
   "cell_type": "code",
   "execution_count": 110,
   "id": "c6e050bc",
   "metadata": {},
   "outputs": [
    {
     "data": {
      "text/plain": [
       "[Position(account='DUA408233', contract=Stock(conId=265598, symbol='AAPL', exchange='NASDAQ', currency='USD', localSymbol='AAPL', tradingClass='NMS'), position=1.0, avgCost=226.46),\n",
       " Position(account='DUA408233', contract=Stock(conId=272093, symbol='MSFT', exchange='NASDAQ', currency='USD', localSymbol='MSFT', tradingClass='NMS'), position=10.0, avgCost=425.069)]"
      ]
     },
     "execution_count": 110,
     "metadata": {},
     "output_type": "execute_result"
    }
   ],
   "source": [
    "pos = ib.positions()\n",
    "pos"
   ]
  },
  {
   "cell_type": "code",
   "execution_count": 112,
   "id": "65d57758",
   "metadata": {},
   "outputs": [
    {
     "data": {
      "text/html": [
       "<div>\n",
       "<style scoped>\n",
       "    .dataframe tbody tr th:only-of-type {\n",
       "        vertical-align: middle;\n",
       "    }\n",
       "\n",
       "    .dataframe tbody tr th {\n",
       "        vertical-align: top;\n",
       "    }\n",
       "\n",
       "    .dataframe thead th {\n",
       "        text-align: right;\n",
       "    }\n",
       "</style>\n",
       "<table border=\"1\" class=\"dataframe\">\n",
       "  <thead>\n",
       "    <tr style=\"text-align: right;\">\n",
       "      <th></th>\n",
       "      <th>account</th>\n",
       "      <th>contract</th>\n",
       "      <th>position</th>\n",
       "      <th>avgCost</th>\n",
       "    </tr>\n",
       "  </thead>\n",
       "  <tbody>\n",
       "    <tr>\n",
       "      <th>0</th>\n",
       "      <td>DUA408233</td>\n",
       "      <td>Stock(conId=265598, symbol='AAPL', exchange='N...</td>\n",
       "      <td>1.0</td>\n",
       "      <td>226.460</td>\n",
       "    </tr>\n",
       "    <tr>\n",
       "      <th>1</th>\n",
       "      <td>DUA408233</td>\n",
       "      <td>Stock(conId=272093, symbol='MSFT', exchange='N...</td>\n",
       "      <td>10.0</td>\n",
       "      <td>425.069</td>\n",
       "    </tr>\n",
       "  </tbody>\n",
       "</table>\n",
       "</div>"
      ],
      "text/plain": [
       "     account                                           contract  position  \\\n",
       "0  DUA408233  Stock(conId=265598, symbol='AAPL', exchange='N...       1.0   \n",
       "1  DUA408233  Stock(conId=272093, symbol='MSFT', exchange='N...      10.0   \n",
       "\n",
       "   avgCost  \n",
       "0  226.460  \n",
       "1  425.069  "
      ]
     },
     "execution_count": 112,
     "metadata": {},
     "output_type": "execute_result"
    }
   ],
   "source": [
    "df = util.df(pos)\n",
    "df"
   ]
  },
  {
   "cell_type": "code",
   "execution_count": 114,
   "id": "8384956c",
   "metadata": {},
   "outputs": [
    {
     "data": {
      "text/html": [
       "<div>\n",
       "<style scoped>\n",
       "    .dataframe tbody tr th:only-of-type {\n",
       "        vertical-align: middle;\n",
       "    }\n",
       "\n",
       "    .dataframe tbody tr th {\n",
       "        vertical-align: top;\n",
       "    }\n",
       "\n",
       "    .dataframe thead th {\n",
       "        text-align: right;\n",
       "    }\n",
       "</style>\n",
       "<table border=\"1\" class=\"dataframe\">\n",
       "  <thead>\n",
       "    <tr style=\"text-align: right;\">\n",
       "      <th></th>\n",
       "      <th>account</th>\n",
       "      <th>contract</th>\n",
       "      <th>position</th>\n",
       "      <th>avgCost</th>\n",
       "      <th>symbol</th>\n",
       "      <th>conID</th>\n",
       "    </tr>\n",
       "  </thead>\n",
       "  <tbody>\n",
       "    <tr>\n",
       "      <th>0</th>\n",
       "      <td>DUA408233</td>\n",
       "      <td>Stock(conId=265598, symbol='AAPL', exchange='N...</td>\n",
       "      <td>1.0</td>\n",
       "      <td>226.460</td>\n",
       "      <td>AAPL</td>\n",
       "      <td>265598</td>\n",
       "    </tr>\n",
       "    <tr>\n",
       "      <th>1</th>\n",
       "      <td>DUA408233</td>\n",
       "      <td>Stock(conId=272093, symbol='MSFT', exchange='N...</td>\n",
       "      <td>10.0</td>\n",
       "      <td>425.069</td>\n",
       "      <td>MSFT</td>\n",
       "      <td>272093</td>\n",
       "    </tr>\n",
       "  </tbody>\n",
       "</table>\n",
       "</div>"
      ],
      "text/plain": [
       "     account                                           contract  position  \\\n",
       "0  DUA408233  Stock(conId=265598, symbol='AAPL', exchange='N...       1.0   \n",
       "1  DUA408233  Stock(conId=272093, symbol='MSFT', exchange='N...      10.0   \n",
       "\n",
       "   avgCost symbol   conID  \n",
       "0  226.460   AAPL  265598  \n",
       "1  425.069   MSFT  272093  "
      ]
     },
     "execution_count": 114,
     "metadata": {},
     "output_type": "execute_result"
    }
   ],
   "source": [
    "df[\"symbol\"] = df.contract.apply(lambda x: x.symbol)\n",
    "df[\"conID\"] = df.contract.apply(lambda x: x.conId)\n",
    "df"
   ]
  },
  {
   "cell_type": "code",
   "execution_count": 116,
   "id": "ac327f41",
   "metadata": {},
   "outputs": [],
   "source": [
    "if df is not None:\n",
    "    df[\"symbol\"] = df.contract.apply(lambda x: x.symbol)\n",
    "    df[\"conID\"] = df.contract.apply(lambda x: x.conId)\n",
    "else: \n",
    "    df = pd.DataFrame(columns = [\"symbol\", \"position\"])"
   ]
  },
  {
   "cell_type": "code",
   "execution_count": 118,
   "id": "2f066f28",
   "metadata": {},
   "outputs": [
    {
     "data": {
      "text/html": [
       "<div>\n",
       "<style scoped>\n",
       "    .dataframe tbody tr th:only-of-type {\n",
       "        vertical-align: middle;\n",
       "    }\n",
       "\n",
       "    .dataframe tbody tr th {\n",
       "        vertical-align: top;\n",
       "    }\n",
       "\n",
       "    .dataframe thead th {\n",
       "        text-align: right;\n",
       "    }\n",
       "</style>\n",
       "<table border=\"1\" class=\"dataframe\">\n",
       "  <thead>\n",
       "    <tr style=\"text-align: right;\">\n",
       "      <th></th>\n",
       "      <th>account</th>\n",
       "      <th>contract</th>\n",
       "      <th>position</th>\n",
       "      <th>avgCost</th>\n",
       "      <th>symbol</th>\n",
       "      <th>conID</th>\n",
       "    </tr>\n",
       "  </thead>\n",
       "  <tbody>\n",
       "    <tr>\n",
       "      <th>0</th>\n",
       "      <td>DUA408233</td>\n",
       "      <td>Stock(conId=265598, symbol='AAPL', exchange='N...</td>\n",
       "      <td>1.0</td>\n",
       "      <td>226.460</td>\n",
       "      <td>AAPL</td>\n",
       "      <td>265598</td>\n",
       "    </tr>\n",
       "    <tr>\n",
       "      <th>1</th>\n",
       "      <td>DUA408233</td>\n",
       "      <td>Stock(conId=272093, symbol='MSFT', exchange='N...</td>\n",
       "      <td>10.0</td>\n",
       "      <td>425.069</td>\n",
       "      <td>MSFT</td>\n",
       "      <td>272093</td>\n",
       "    </tr>\n",
       "  </tbody>\n",
       "</table>\n",
       "</div>"
      ],
      "text/plain": [
       "     account                                           contract  position  \\\n",
       "0  DUA408233  Stock(conId=265598, symbol='AAPL', exchange='N...       1.0   \n",
       "1  DUA408233  Stock(conId=272093, symbol='MSFT', exchange='N...      10.0   \n",
       "\n",
       "   avgCost symbol   conID  \n",
       "0  226.460   AAPL  265598  \n",
       "1  425.069   MSFT  272093  "
      ]
     },
     "execution_count": 118,
     "metadata": {},
     "output_type": "execute_result"
    }
   ],
   "source": [
    "df"
   ]
  },
  {
   "cell_type": "code",
   "execution_count": null,
   "id": "6334bf19",
   "metadata": {},
   "outputs": [],
   "source": []
  },
  {
   "cell_type": "markdown",
   "id": "7b127fbe",
   "metadata": {},
   "source": [
    "## Determine Required Trades (from actual to target positions)"
   ]
  },
  {
   "cell_type": "code",
   "execution_count": 122,
   "id": "01f128f1",
   "metadata": {},
   "outputs": [
    {
     "data": {
      "text/html": [
       "<div>\n",
       "<style scoped>\n",
       "    .dataframe tbody tr th:only-of-type {\n",
       "        vertical-align: middle;\n",
       "    }\n",
       "\n",
       "    .dataframe tbody tr th {\n",
       "        vertical-align: top;\n",
       "    }\n",
       "\n",
       "    .dataframe thead th {\n",
       "        text-align: right;\n",
       "    }\n",
       "</style>\n",
       "<table border=\"1\" class=\"dataframe\">\n",
       "  <thead>\n",
       "    <tr style=\"text-align: right;\">\n",
       "      <th></th>\n",
       "      <th>symbol</th>\n",
       "      <th>position</th>\n",
       "    </tr>\n",
       "  </thead>\n",
       "  <tbody>\n",
       "    <tr>\n",
       "      <th>0</th>\n",
       "      <td>AAPL</td>\n",
       "      <td>1.0</td>\n",
       "    </tr>\n",
       "    <tr>\n",
       "      <th>1</th>\n",
       "      <td>MSFT</td>\n",
       "      <td>1.0</td>\n",
       "    </tr>\n",
       "    <tr>\n",
       "      <th>2</th>\n",
       "      <td>JPM</td>\n",
       "      <td>1.0</td>\n",
       "    </tr>\n",
       "    <tr>\n",
       "      <th>3</th>\n",
       "      <td>V</td>\n",
       "      <td>-1.0</td>\n",
       "    </tr>\n",
       "    <tr>\n",
       "      <th>4</th>\n",
       "      <td>CVX</td>\n",
       "      <td>-1.0</td>\n",
       "    </tr>\n",
       "    <tr>\n",
       "      <th>5</th>\n",
       "      <td>KO</td>\n",
       "      <td>-1.0</td>\n",
       "    </tr>\n",
       "  </tbody>\n",
       "</table>\n",
       "</div>"
      ],
      "text/plain": [
       "  symbol  position\n",
       "0   AAPL       1.0\n",
       "1   MSFT       1.0\n",
       "2    JPM       1.0\n",
       "3      V      -1.0\n",
       "4    CVX      -1.0\n",
       "5     KO      -1.0"
      ]
     },
     "execution_count": 122,
     "metadata": {},
     "output_type": "execute_result"
    }
   ],
   "source": [
    "target"
   ]
  },
  {
   "cell_type": "code",
   "execution_count": 124,
   "id": "1e754a24",
   "metadata": {},
   "outputs": [
    {
     "data": {
      "text/html": [
       "<div>\n",
       "<style scoped>\n",
       "    .dataframe tbody tr th:only-of-type {\n",
       "        vertical-align: middle;\n",
       "    }\n",
       "\n",
       "    .dataframe tbody tr th {\n",
       "        vertical-align: top;\n",
       "    }\n",
       "\n",
       "    .dataframe thead th {\n",
       "        text-align: right;\n",
       "    }\n",
       "</style>\n",
       "<table border=\"1\" class=\"dataframe\">\n",
       "  <thead>\n",
       "    <tr style=\"text-align: right;\">\n",
       "      <th></th>\n",
       "      <th>account</th>\n",
       "      <th>contract</th>\n",
       "      <th>position</th>\n",
       "      <th>avgCost</th>\n",
       "      <th>symbol</th>\n",
       "      <th>conID</th>\n",
       "    </tr>\n",
       "  </thead>\n",
       "  <tbody>\n",
       "    <tr>\n",
       "      <th>0</th>\n",
       "      <td>DUA408233</td>\n",
       "      <td>Stock(conId=265598, symbol='AAPL', exchange='N...</td>\n",
       "      <td>1.0</td>\n",
       "      <td>226.460</td>\n",
       "      <td>AAPL</td>\n",
       "      <td>265598</td>\n",
       "    </tr>\n",
       "    <tr>\n",
       "      <th>1</th>\n",
       "      <td>DUA408233</td>\n",
       "      <td>Stock(conId=272093, symbol='MSFT', exchange='N...</td>\n",
       "      <td>10.0</td>\n",
       "      <td>425.069</td>\n",
       "      <td>MSFT</td>\n",
       "      <td>272093</td>\n",
       "    </tr>\n",
       "  </tbody>\n",
       "</table>\n",
       "</div>"
      ],
      "text/plain": [
       "     account                                           contract  position  \\\n",
       "0  DUA408233  Stock(conId=265598, symbol='AAPL', exchange='N...       1.0   \n",
       "1  DUA408233  Stock(conId=272093, symbol='MSFT', exchange='N...      10.0   \n",
       "\n",
       "   avgCost symbol   conID  \n",
       "0  226.460   AAPL  265598  \n",
       "1  425.069   MSFT  272093  "
      ]
     },
     "execution_count": 124,
     "metadata": {},
     "output_type": "execute_result"
    }
   ],
   "source": [
    "df"
   ]
  },
  {
   "cell_type": "code",
   "execution_count": 126,
   "id": "479ed9c8",
   "metadata": {},
   "outputs": [
    {
     "data": {
      "text/html": [
       "<div>\n",
       "<style scoped>\n",
       "    .dataframe tbody tr th:only-of-type {\n",
       "        vertical-align: middle;\n",
       "    }\n",
       "\n",
       "    .dataframe tbody tr th {\n",
       "        vertical-align: top;\n",
       "    }\n",
       "\n",
       "    .dataframe thead th {\n",
       "        text-align: right;\n",
       "    }\n",
       "</style>\n",
       "<table border=\"1\" class=\"dataframe\">\n",
       "  <thead>\n",
       "    <tr style=\"text-align: right;\">\n",
       "      <th></th>\n",
       "      <th>symbol</th>\n",
       "      <th>position_t</th>\n",
       "      <th>position_a</th>\n",
       "    </tr>\n",
       "  </thead>\n",
       "  <tbody>\n",
       "    <tr>\n",
       "      <th>0</th>\n",
       "      <td>AAPL</td>\n",
       "      <td>1.0</td>\n",
       "      <td>1.0</td>\n",
       "    </tr>\n",
       "    <tr>\n",
       "      <th>1</th>\n",
       "      <td>CVX</td>\n",
       "      <td>-1.0</td>\n",
       "      <td>NaN</td>\n",
       "    </tr>\n",
       "    <tr>\n",
       "      <th>2</th>\n",
       "      <td>JPM</td>\n",
       "      <td>1.0</td>\n",
       "      <td>NaN</td>\n",
       "    </tr>\n",
       "    <tr>\n",
       "      <th>3</th>\n",
       "      <td>KO</td>\n",
       "      <td>-1.0</td>\n",
       "      <td>NaN</td>\n",
       "    </tr>\n",
       "    <tr>\n",
       "      <th>4</th>\n",
       "      <td>MSFT</td>\n",
       "      <td>1.0</td>\n",
       "      <td>10.0</td>\n",
       "    </tr>\n",
       "    <tr>\n",
       "      <th>5</th>\n",
       "      <td>V</td>\n",
       "      <td>-1.0</td>\n",
       "      <td>NaN</td>\n",
       "    </tr>\n",
       "  </tbody>\n",
       "</table>\n",
       "</div>"
      ],
      "text/plain": [
       "  symbol  position_t  position_a\n",
       "0   AAPL         1.0         1.0\n",
       "1    CVX        -1.0         NaN\n",
       "2    JPM         1.0         NaN\n",
       "3     KO        -1.0         NaN\n",
       "4   MSFT         1.0        10.0\n",
       "5      V        -1.0         NaN"
      ]
     },
     "execution_count": 126,
     "metadata": {},
     "output_type": "execute_result"
    }
   ],
   "source": [
    "trades = pd.merge(target, df[[\"symbol\", \"position\"]], \"outer\", on = \"symbol\", suffixes = [\"_t\", \"_a\"])\n",
    "trades"
   ]
  },
  {
   "cell_type": "code",
   "execution_count": 128,
   "id": "0d571a4f",
   "metadata": {},
   "outputs": [
    {
     "data": {
      "text/html": [
       "<div>\n",
       "<style scoped>\n",
       "    .dataframe tbody tr th:only-of-type {\n",
       "        vertical-align: middle;\n",
       "    }\n",
       "\n",
       "    .dataframe tbody tr th {\n",
       "        vertical-align: top;\n",
       "    }\n",
       "\n",
       "    .dataframe thead th {\n",
       "        text-align: right;\n",
       "    }\n",
       "</style>\n",
       "<table border=\"1\" class=\"dataframe\">\n",
       "  <thead>\n",
       "    <tr style=\"text-align: right;\">\n",
       "      <th></th>\n",
       "      <th>symbol</th>\n",
       "      <th>position_t</th>\n",
       "      <th>position_a</th>\n",
       "    </tr>\n",
       "  </thead>\n",
       "  <tbody>\n",
       "    <tr>\n",
       "      <th>0</th>\n",
       "      <td>AAPL</td>\n",
       "      <td>1.0</td>\n",
       "      <td>1.0</td>\n",
       "    </tr>\n",
       "    <tr>\n",
       "      <th>1</th>\n",
       "      <td>CVX</td>\n",
       "      <td>-1.0</td>\n",
       "      <td>0.0</td>\n",
       "    </tr>\n",
       "    <tr>\n",
       "      <th>2</th>\n",
       "      <td>JPM</td>\n",
       "      <td>1.0</td>\n",
       "      <td>0.0</td>\n",
       "    </tr>\n",
       "    <tr>\n",
       "      <th>3</th>\n",
       "      <td>KO</td>\n",
       "      <td>-1.0</td>\n",
       "      <td>0.0</td>\n",
       "    </tr>\n",
       "    <tr>\n",
       "      <th>4</th>\n",
       "      <td>MSFT</td>\n",
       "      <td>1.0</td>\n",
       "      <td>10.0</td>\n",
       "    </tr>\n",
       "    <tr>\n",
       "      <th>5</th>\n",
       "      <td>V</td>\n",
       "      <td>-1.0</td>\n",
       "      <td>0.0</td>\n",
       "    </tr>\n",
       "  </tbody>\n",
       "</table>\n",
       "</div>"
      ],
      "text/plain": [
       "  symbol  position_t  position_a\n",
       "0   AAPL         1.0         1.0\n",
       "1    CVX        -1.0         0.0\n",
       "2    JPM         1.0         0.0\n",
       "3     KO        -1.0         0.0\n",
       "4   MSFT         1.0        10.0\n",
       "5      V        -1.0         0.0"
      ]
     },
     "execution_count": 128,
     "metadata": {},
     "output_type": "execute_result"
    }
   ],
   "source": [
    "trades.fillna(0, inplace = True)\n",
    "trades"
   ]
  },
  {
   "cell_type": "code",
   "execution_count": 130,
   "id": "b63c712b",
   "metadata": {},
   "outputs": [],
   "source": [
    "trades[\"trades\"] = trades.position_t - trades.position_a #trades column identifies the position we are to take"
   ]
  },
  {
   "cell_type": "code",
   "execution_count": 132,
   "id": "55a7a033",
   "metadata": {},
   "outputs": [
    {
     "data": {
      "text/html": [
       "<div>\n",
       "<style scoped>\n",
       "    .dataframe tbody tr th:only-of-type {\n",
       "        vertical-align: middle;\n",
       "    }\n",
       "\n",
       "    .dataframe tbody tr th {\n",
       "        vertical-align: top;\n",
       "    }\n",
       "\n",
       "    .dataframe thead th {\n",
       "        text-align: right;\n",
       "    }\n",
       "</style>\n",
       "<table border=\"1\" class=\"dataframe\">\n",
       "  <thead>\n",
       "    <tr style=\"text-align: right;\">\n",
       "      <th></th>\n",
       "      <th>symbol</th>\n",
       "      <th>position_t</th>\n",
       "      <th>position_a</th>\n",
       "      <th>trades</th>\n",
       "    </tr>\n",
       "  </thead>\n",
       "  <tbody>\n",
       "    <tr>\n",
       "      <th>0</th>\n",
       "      <td>AAPL</td>\n",
       "      <td>1.0</td>\n",
       "      <td>1.0</td>\n",
       "      <td>0.0</td>\n",
       "    </tr>\n",
       "    <tr>\n",
       "      <th>1</th>\n",
       "      <td>CVX</td>\n",
       "      <td>-1.0</td>\n",
       "      <td>0.0</td>\n",
       "      <td>-1.0</td>\n",
       "    </tr>\n",
       "    <tr>\n",
       "      <th>2</th>\n",
       "      <td>JPM</td>\n",
       "      <td>1.0</td>\n",
       "      <td>0.0</td>\n",
       "      <td>1.0</td>\n",
       "    </tr>\n",
       "    <tr>\n",
       "      <th>3</th>\n",
       "      <td>KO</td>\n",
       "      <td>-1.0</td>\n",
       "      <td>0.0</td>\n",
       "      <td>-1.0</td>\n",
       "    </tr>\n",
       "    <tr>\n",
       "      <th>4</th>\n",
       "      <td>MSFT</td>\n",
       "      <td>1.0</td>\n",
       "      <td>10.0</td>\n",
       "      <td>-9.0</td>\n",
       "    </tr>\n",
       "    <tr>\n",
       "      <th>5</th>\n",
       "      <td>V</td>\n",
       "      <td>-1.0</td>\n",
       "      <td>0.0</td>\n",
       "      <td>-1.0</td>\n",
       "    </tr>\n",
       "  </tbody>\n",
       "</table>\n",
       "</div>"
      ],
      "text/plain": [
       "  symbol  position_t  position_a  trades\n",
       "0   AAPL         1.0         1.0     0.0\n",
       "1    CVX        -1.0         0.0    -1.0\n",
       "2    JPM         1.0         0.0     1.0\n",
       "3     KO        -1.0         0.0    -1.0\n",
       "4   MSFT         1.0        10.0    -9.0\n",
       "5      V        -1.0         0.0    -1.0"
      ]
     },
     "execution_count": 132,
     "metadata": {},
     "output_type": "execute_result"
    }
   ],
   "source": [
    "trades "
   ]
  },
  {
   "cell_type": "code",
   "execution_count": 134,
   "id": "69a1de6e",
   "metadata": {},
   "outputs": [
    {
     "data": {
      "text/html": [
       "<div>\n",
       "<style scoped>\n",
       "    .dataframe tbody tr th:only-of-type {\n",
       "        vertical-align: middle;\n",
       "    }\n",
       "\n",
       "    .dataframe tbody tr th {\n",
       "        vertical-align: top;\n",
       "    }\n",
       "\n",
       "    .dataframe thead th {\n",
       "        text-align: right;\n",
       "    }\n",
       "</style>\n",
       "<table border=\"1\" class=\"dataframe\">\n",
       "  <thead>\n",
       "    <tr style=\"text-align: right;\">\n",
       "      <th></th>\n",
       "      <th>position_t</th>\n",
       "      <th>position_a</th>\n",
       "      <th>trades</th>\n",
       "    </tr>\n",
       "    <tr>\n",
       "      <th>symbol</th>\n",
       "      <th></th>\n",
       "      <th></th>\n",
       "      <th></th>\n",
       "    </tr>\n",
       "  </thead>\n",
       "  <tbody>\n",
       "    <tr>\n",
       "      <th>CVX</th>\n",
       "      <td>-1.0</td>\n",
       "      <td>0.0</td>\n",
       "      <td>-1.0</td>\n",
       "    </tr>\n",
       "    <tr>\n",
       "      <th>JPM</th>\n",
       "      <td>1.0</td>\n",
       "      <td>0.0</td>\n",
       "      <td>1.0</td>\n",
       "    </tr>\n",
       "    <tr>\n",
       "      <th>KO</th>\n",
       "      <td>-1.0</td>\n",
       "      <td>0.0</td>\n",
       "      <td>-1.0</td>\n",
       "    </tr>\n",
       "    <tr>\n",
       "      <th>MSFT</th>\n",
       "      <td>1.0</td>\n",
       "      <td>10.0</td>\n",
       "      <td>-9.0</td>\n",
       "    </tr>\n",
       "    <tr>\n",
       "      <th>V</th>\n",
       "      <td>-1.0</td>\n",
       "      <td>0.0</td>\n",
       "      <td>-1.0</td>\n",
       "    </tr>\n",
       "  </tbody>\n",
       "</table>\n",
       "</div>"
      ],
      "text/plain": [
       "        position_t  position_a  trades\n",
       "symbol                                \n",
       "CVX           -1.0         0.0    -1.0\n",
       "JPM            1.0         0.0     1.0\n",
       "KO            -1.0         0.0    -1.0\n",
       "MSFT           1.0        10.0    -9.0\n",
       "V             -1.0         0.0    -1.0"
      ]
     },
     "execution_count": 134,
     "metadata": {},
     "output_type": "execute_result"
    }
   ],
   "source": [
    "trades = trades[trades.trades !=0].set_index(\"symbol\").copy() #filters only those where we need an actionable step\n",
    "trades"
   ]
  },
  {
   "cell_type": "code",
   "execution_count": null,
   "id": "8ad1a3e1",
   "metadata": {},
   "outputs": [],
   "source": []
  },
  {
   "cell_type": "markdown",
   "id": "5ad296e4",
   "metadata": {},
   "source": [
    "## Execute Trades"
   ]
  },
  {
   "cell_type": "code",
   "execution_count": 139,
   "id": "710026fb",
   "metadata": {},
   "outputs": [
    {
     "name": "stdout",
     "output_type": "stream",
     "text": [
      "SELL CVX @ 146.5\n",
      "BUY JPM @ 210.09\n",
      "SELL KO @ 71.94\n",
      "SELL MSFT @ 428.0\n",
      "SELL V @ 275.03\n"
     ]
    },
    {
     "data": {
      "text/html": [
       "<div>\n",
       "<style scoped>\n",
       "    .dataframe tbody tr th:only-of-type {\n",
       "        vertical-align: middle;\n",
       "    }\n",
       "\n",
       "    .dataframe tbody tr th {\n",
       "        vertical-align: top;\n",
       "    }\n",
       "\n",
       "    .dataframe thead th {\n",
       "        text-align: right;\n",
       "    }\n",
       "</style>\n",
       "<table border=\"1\" class=\"dataframe\">\n",
       "  <thead>\n",
       "    <tr style=\"text-align: right;\">\n",
       "      <th></th>\n",
       "      <th>account</th>\n",
       "      <th>contract</th>\n",
       "      <th>position</th>\n",
       "      <th>avgCost</th>\n",
       "      <th>symbol</th>\n",
       "      <th>conID</th>\n",
       "    </tr>\n",
       "  </thead>\n",
       "  <tbody>\n",
       "    <tr>\n",
       "      <th>0</th>\n",
       "      <td>DUA408233</td>\n",
       "      <td>Stock(conId=265598, symbol='AAPL', exchange='N...</td>\n",
       "      <td>1.0</td>\n",
       "      <td>226.460000</td>\n",
       "      <td>AAPL</td>\n",
       "      <td>265598</td>\n",
       "    </tr>\n",
       "    <tr>\n",
       "      <th>1</th>\n",
       "      <td>DUA408233</td>\n",
       "      <td>Stock(conId=5684, symbol='CVX', exchange='NYSE...</td>\n",
       "      <td>-2.0</td>\n",
       "      <td>145.405301</td>\n",
       "      <td>CVX</td>\n",
       "      <td>5684</td>\n",
       "    </tr>\n",
       "    <tr>\n",
       "      <th>2</th>\n",
       "      <td>DUA408233</td>\n",
       "      <td>Stock(conId=1520593, symbol='JPM', exchange='N...</td>\n",
       "      <td>2.0</td>\n",
       "      <td>211.180078</td>\n",
       "      <td>JPM</td>\n",
       "      <td>1520593</td>\n",
       "    </tr>\n",
       "    <tr>\n",
       "      <th>3</th>\n",
       "      <td>DUA408233</td>\n",
       "      <td>Stock(conId=8894, symbol='KO', exchange='NYSE'...</td>\n",
       "      <td>-2.0</td>\n",
       "      <td>71.153415</td>\n",
       "      <td>KO</td>\n",
       "      <td>8894</td>\n",
       "    </tr>\n",
       "    <tr>\n",
       "      <th>4</th>\n",
       "      <td>DUA408233</td>\n",
       "      <td>Stock(conId=49462172, symbol='V', exchange='NY...</td>\n",
       "      <td>-2.0</td>\n",
       "      <td>274.480704</td>\n",
       "      <td>V</td>\n",
       "      <td>49462172</td>\n",
       "    </tr>\n",
       "    <tr>\n",
       "      <th>5</th>\n",
       "      <td>DUA408233</td>\n",
       "      <td>Stock(conId=272093, symbol='MSFT', exchange='N...</td>\n",
       "      <td>-8.0</td>\n",
       "      <td>427.848868</td>\n",
       "      <td>MSFT</td>\n",
       "      <td>272093</td>\n",
       "    </tr>\n",
       "  </tbody>\n",
       "</table>\n",
       "</div>"
      ],
      "text/plain": [
       "     account                                           contract  position  \\\n",
       "0  DUA408233  Stock(conId=265598, symbol='AAPL', exchange='N...       1.0   \n",
       "1  DUA408233  Stock(conId=5684, symbol='CVX', exchange='NYSE...      -2.0   \n",
       "2  DUA408233  Stock(conId=1520593, symbol='JPM', exchange='N...       2.0   \n",
       "3  DUA408233  Stock(conId=8894, symbol='KO', exchange='NYSE'...      -2.0   \n",
       "4  DUA408233  Stock(conId=49462172, symbol='V', exchange='NY...      -2.0   \n",
       "5  DUA408233  Stock(conId=272093, symbol='MSFT', exchange='N...      -8.0   \n",
       "\n",
       "      avgCost symbol     conID  \n",
       "0  226.460000   AAPL    265598  \n",
       "1  145.405301    CVX      5684  \n",
       "2  211.180078    JPM   1520593  \n",
       "3   71.153415     KO      8894  \n",
       "4  274.480704      V  49462172  \n",
       "5  427.848868   MSFT    272093  "
      ]
     },
     "execution_count": 139,
     "metadata": {},
     "output_type": "execute_result"
    }
   ],
   "source": [
    "for symbol in trades.index:\n",
    "    to_trade = trades.loc[symbol, \"trades\"]\n",
    "    if to_trade > 0: \n",
    "        side = \"BUY\"\n",
    "    elif to_trade < 0:\n",
    "        side = \"SELL\"\n",
    "    contract = Stock(symbol, \"SMART\", \"USD\")\n",
    "    cds = ib.reqContractDetails(contract)\n",
    "    if len(cds) == 0:\n",
    "        print(\"No Contract for {} found.\".format(symbol))\n",
    "    elif len(cds) == 1:\n",
    "        contract = cds[0].contract\n",
    "        order = MarketOrder(side, abs(to_trade))\n",
    "        trade = ib.placeOrder(contract, order)\n",
    "        while not trade.isDone():\n",
    "            ib.waitOnUpdate()\n",
    "        if trade.orderStatus.status == \"Filled\":\n",
    "            print(\"{} {} @ {}\".format(side, symbol, trade.orderStatus.avgFillPrice))\n",
    "        else:\n",
    "            print(\"{} {} failed.\".format(side, symbol))\n",
    "    else:\n",
    "        contract = cds[0].contract\n",
    "        print(\"Multiple Contracts for {} found.\".format(symbol))\n",
    "        order = MarketOrder(side, abs(to_trade))\n",
    "        trade = ib.placeOrder(contract, order)\n",
    "        while not trade.isDone():\n",
    "            ib.waitOnUpdate()\n",
    "        if trade.orderStatus.status == \"Filled\":\n",
    "            print(\"{} {} @ {}\".format(side, symbol, trade.orderStatus.avgFillPrice))\n",
    "        else:\n",
    "            print(\"{} {} failed.\".format(side, symbol))  \n",
    "pos = ib.positions()\n",
    "df = util.df(pos)\n",
    "df[\"symbol\"] = df.contract.apply(lambda x: x.symbol)\n",
    "df[\"conID\"] = df.contract.apply(lambda x: x.conId)\n",
    "df"
   ]
  },
  {
   "cell_type": "code",
   "execution_count": 141,
   "id": "4c55d0c2",
   "metadata": {},
   "outputs": [
    {
     "data": {
      "text/html": [
       "<div>\n",
       "<style scoped>\n",
       "    .dataframe tbody tr th:only-of-type {\n",
       "        vertical-align: middle;\n",
       "    }\n",
       "\n",
       "    .dataframe tbody tr th {\n",
       "        vertical-align: top;\n",
       "    }\n",
       "\n",
       "    .dataframe thead th {\n",
       "        text-align: right;\n",
       "    }\n",
       "</style>\n",
       "<table border=\"1\" class=\"dataframe\">\n",
       "  <thead>\n",
       "    <tr style=\"text-align: right;\">\n",
       "      <th></th>\n",
       "      <th>symbol</th>\n",
       "      <th>position</th>\n",
       "    </tr>\n",
       "  </thead>\n",
       "  <tbody>\n",
       "    <tr>\n",
       "      <th>0</th>\n",
       "      <td>AAPL</td>\n",
       "      <td>1.0</td>\n",
       "    </tr>\n",
       "    <tr>\n",
       "      <th>1</th>\n",
       "      <td>MSFT</td>\n",
       "      <td>1.0</td>\n",
       "    </tr>\n",
       "    <tr>\n",
       "      <th>2</th>\n",
       "      <td>JPM</td>\n",
       "      <td>1.0</td>\n",
       "    </tr>\n",
       "    <tr>\n",
       "      <th>3</th>\n",
       "      <td>V</td>\n",
       "      <td>-1.0</td>\n",
       "    </tr>\n",
       "    <tr>\n",
       "      <th>4</th>\n",
       "      <td>CVX</td>\n",
       "      <td>-1.0</td>\n",
       "    </tr>\n",
       "    <tr>\n",
       "      <th>5</th>\n",
       "      <td>KO</td>\n",
       "      <td>-1.0</td>\n",
       "    </tr>\n",
       "  </tbody>\n",
       "</table>\n",
       "</div>"
      ],
      "text/plain": [
       "  symbol  position\n",
       "0   AAPL       1.0\n",
       "1   MSFT       1.0\n",
       "2    JPM       1.0\n",
       "3      V      -1.0\n",
       "4    CVX      -1.0\n",
       "5     KO      -1.0"
      ]
     },
     "execution_count": 141,
     "metadata": {},
     "output_type": "execute_result"
    }
   ],
   "source": [
    "target"
   ]
  },
  {
   "cell_type": "code",
   "execution_count": 143,
   "id": "82c07f2b",
   "metadata": {},
   "outputs": [],
   "source": [
    "ib.disconnect()"
   ]
  },
  {
   "cell_type": "code",
   "execution_count": null,
   "id": "d50622ef",
   "metadata": {},
   "outputs": [],
   "source": []
  },
  {
   "cell_type": "markdown",
   "id": "e070c7c9",
   "metadata": {},
   "source": []
  },
  {
   "cell_type": "markdown",
   "id": "025179c7",
   "metadata": {},
   "source": [
    "\n",
    "    "
   ]
  },
  {
   "cell_type": "code",
   "execution_count": null,
   "id": "ec585b99",
   "metadata": {},
   "outputs": [],
   "source": []
  }
 ],
 "metadata": {
  "kernelspec": {
   "display_name": "Python 3 (ipykernel)",
   "language": "python",
   "name": "python3"
  },
  "language_info": {
   "codemirror_mode": {
    "name": "ipython",
    "version": 3
   },
   "file_extension": ".py",
   "mimetype": "text/x-python",
   "name": "python",
   "nbconvert_exporter": "python",
   "pygments_lexer": "ipython3",
   "version": "3.10.14"
  }
 },
 "nbformat": 4,
 "nbformat_minor": 5
}
